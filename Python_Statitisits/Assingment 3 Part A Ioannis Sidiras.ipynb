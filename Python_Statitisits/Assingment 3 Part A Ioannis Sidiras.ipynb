{
 "cells": [
  {
   "cell_type": "code",
   "execution_count": 1,
   "id": "346ed585",
   "metadata": {},
   "outputs": [],
   "source": [
    "import numpy as np\n",
    "import matplotlib.pyplot as plt\n",
    "import scipy.stats as sps\n",
    "import scipy.optimize as spopt\n",
    "import scipy.interpolate as spinterp\n",
    "import scipy.integrate as spint"
   ]
  },
  {
   "cell_type": "code",
   "execution_count": 2,
   "id": "db153ce7",
   "metadata": {},
   "outputs": [
    {
     "name": "stdout",
     "output_type": "stream",
     "text": [
      "('obs', 'date', 'dt', 'error')\n"
     ]
    }
   ],
   "source": [
    "p_t= np.genfromtxt('pulsar-timing.txt', dtype='float', usecols=(0,1,2,3), names=True)\n",
    "print(p_t.dtype.names)"
   ]
  },
  {
   "cell_type": "markdown",
   "id": "3ef870e5",
   "metadata": {},
   "source": [
    "Programming challenge 1\n"
   ]
  },
  {
   "cell_type": "markdown",
   "id": "4e92f39f",
   "metadata": {},
   "source": [
    "For the case of constant orbit the model that we are going to use for the fitting is"
   ]
  },
  {
   "cell_type": "code",
   "execution_count": 3,
   "id": "08e61065",
   "metadata": {},
   "outputs": [],
   "source": [
    "def func_a(t_val,*parm):\n",
    "    alpha=parm[0]\n",
    "    return alpha;\n"
   ]
  },
  {
   "cell_type": "markdown",
   "id": "f7acfc76",
   "metadata": {},
   "source": [
    "Now we are doing the fitting using the the curve_fit."
   ]
  },
  {
   "cell_type": "code",
   "execution_count": 4,
   "id": "2bc3537e",
   "metadata": {},
   "outputs": [
    {
     "name": "stdout",
     "output_type": "stream",
     "text": [
      "The covariance matrix is:\n",
      " [[0.02279659]]\n",
      "a= -1.0839256196834055 +/- 0.1509853907328685\n"
     ]
    }
   ],
   "source": [
    "p0=[7.76]#initial parameters\n",
    "\n",
    "ml_cfpars, ml_cfcovar = spopt.curve_fit(func_a, p_t['date'], p_t['dt'], \n",
    "                                        p0, sigma=p_t['error'])\n",
    "\n",
    "print(\"The covariance matrix is:\\n\",ml_cfcovar)\n",
    "err = np.sqrt(np.diag(ml_cfcovar)) \n",
    "print(\"a= \"+str(ml_cfpars[0])+\" +/- \"+str(err[0]))"
   ]
  },
  {
   "cell_type": "code",
   "execution_count": 5,
   "id": "0ba368ea",
   "metadata": {},
   "outputs": [
    {
     "data": {
      "image/png": "[encoded data removed]",
      "text/plain": [
       "<Figure size 576x432 with 2 Axes>"
      ]
     },
     "metadata": {
      "needs_background": "light"
     },
     "output_type": "display_data"
    }
   ],
   "source": [
    "model_t=np.linspace(1972.0,1982.0,1000)\n",
    "\n",
    "fig, (ax1, ax2) = plt.subplots(2,1, figsize=(8,6),sharex=True,gridspec_kw={'height_ratios':[2,1]})\n",
    "fig.subplots_adjust(hspace=0)\n",
    "\n",
    "ax1.errorbar(p_t['date'], p_t['dt'], yerr=p_t['error'], marker=\"o\", linestyle=\"\",alpha=0.5)\n",
    "ax1.axhline(ml_cfpars[0])#because inthe first case the function is constant\n",
    "#ax1.plot(model_t,func_a(model_t,*ml_cfpars),lw=2)\n",
    "ax1.set_ylabel(\"Phase Residuals in years\",fontsize=12)\n",
    "ax1.tick_params(labelsize=14)\n",
    "\n",
    "ax2.errorbar(p_t['date'],p_t['dt']-func_a(p_t['date'],*ml_cfpars),\n",
    "             yerr=p_t['error'],marker=\"o\", linestyle=\"\",alpha=0.5)\n",
    "ax2.set_xlabel(\"Dates in years\",fontsize=12)\n",
    "ax2.set_ylabel(\"Residuals in years\", fontsize=12)\n",
    "ax2.axhline(0.0, color='r', linestyle='dotted', lw=2) \n",
    "ax2.tick_params(labelsize=14)\n",
    "plt.show()"
   ]
  },
  {
   "cell_type": "code",
   "execution_count": 6,
   "id": "c1f04ef4",
   "metadata": {},
   "outputs": [
    {
     "name": "stdout",
     "output_type": "stream",
     "text": [
      "Minimum Chi-squared = 3548.1567279428273 for 12 d.o.f.\n",
      "The goodness of fit is:  0.0\n"
     ]
    }
   ],
   "source": [
    "minchisq = np.sum(((p_t['dt']-func_a(p_t['date'],*ml_cfpars))/p_t['error'])**2)\n",
    "\n",
    "dof = len(p_t['date'])-len(p0)\n",
    "print(\"Minimum Chi-squared = \"+str(minchisq)+\" for \"+str(dof)+\" d.o.f.\")\n",
    "print(\"The goodness of fit is: \",sps.chi2.sf(minchisq,df=dof))"
   ]
  },
  {
   "cell_type": "markdown",
   "id": "d46b7705",
   "metadata": {},
   "source": [
    "There two ways to judge if the fit is good or not. The first one is with the parameter called goodness of fit. The goodness of the fit is the p-value of the chi squared distribution. In the words it is the value of the survival function of the chi squared distribution for given arguments the minimum chi squared and the degrees of freedom $\\nu$ where $\\nu$ is number of data points minus the number of free parameters in the model. Another way to judge wether the fit is good or not is through the ratio $\\frac{\\chi^2}{\\nu}$. If the ratio is close to 1 then the fiting is good if the ratio is greater than 1 then the fitting is bad. In the case that the ratio is smaller than 1 it means that the data is over fitted or the errors are over estimated.\n",
    "\n",
    "\n",
    "\n",
    "In this particular case it is clearly a realy bad fit because because the ratio $\\frac{\\chi^2}{\\nu}$ is by far greater than 1 and the p-value comes out so small that is practically zero."
   ]
  },
  {
   "cell_type": "markdown",
   "id": "63639732",
   "metadata": {},
   "source": [
    "For the case of constant orbit but in correct period the model that we are going to do the fitting is:"
   ]
  },
  {
   "cell_type": "code",
   "execution_count": 7,
   "id": "e09fa7ea",
   "metadata": {},
   "outputs": [],
   "source": [
    "def func_b(t_val,*parm):\n",
    "    alpha=parm[0]\n",
    "    beta=parm[1]\n",
    "    return alpha+beta*t_val;"
   ]
  },
  {
   "cell_type": "code",
   "execution_count": 8,
   "id": "b0ed6d78",
   "metadata": {},
   "outputs": [
    {
     "name": "stdout",
     "output_type": "stream",
     "text": [
      "The covariance matrix is:\n",
      " [[ 2.15853468e+03 -1.09045438e+00]\n",
      " [-1.09045438e+00  5.50879000e-04]]\n",
      "a= 680.6357453854216 +/- 46.46003311959991\n",
      "b= -0.3443931814666728 +/- 0.02347081165446883\n"
     ]
    }
   ],
   "source": [
    "p0=[7.76,10.0]#initial parameters\n",
    "\n",
    "ml_cfpars, ml_cfcovar = spopt.curve_fit(func_b, p_t['date'], p_t['dt'], \n",
    "                                        p0, sigma=p_t['error'])\n",
    "\n",
    "print(\"The covariance matrix is:\\n\",ml_cfcovar)\n",
    "err = np.sqrt(np.diag(ml_cfcovar)) \n",
    "print(\"a= \"+str(ml_cfpars[0])+\" +/- \"+str(err[0]))\n",
    "print(\"b= \"+str(ml_cfpars[1])+\" +/- \"+str(err[1]))"
   ]
  },
  {
   "cell_type": "code",
   "execution_count": 9,
   "id": "c2ce4239",
   "metadata": {},
   "outputs": [
    {
     "data": {
      "image/png": "[encoded data removed]",
      "text/plain": [
       "<Figure size 576x432 with 2 Axes>"
      ]
     },
     "metadata": {
      "needs_background": "light"
     },
     "output_type": "display_data"
    }
   ],
   "source": [
    "fig, (ax1, ax2) = plt.subplots(2,1, figsize=(8,6),sharex=True,gridspec_kw={'height_ratios':[2,1]})\n",
    "fig.subplots_adjust(hspace=0)\n",
    "\n",
    "ax1.errorbar(p_t['date'], p_t['dt'], yerr=p_t['error'], marker=\"o\", linestyle=\"\",alpha=0.5)\n",
    "ax1.plot(model_t,func_b(model_t,*ml_cfpars),lw=2)\n",
    "ax1.set_ylabel(\"Phase Residuals in years\",fontsize=12)\n",
    "ax1.tick_params(labelsize=14)\n",
    "\n",
    "ax2.errorbar(p_t['date'],p_t['dt']-func_b(p_t['date'],*ml_cfpars),\n",
    "             yerr=p_t['error'],marker=\"o\", linestyle=\"\",alpha=0.5)\n",
    "ax2.set_xlabel(\"Dates in years\",fontsize=12)\n",
    "ax2.set_ylabel(\"Residuals in years\", fontsize=12)\n",
    "ax2.axhline(0.0, color='r', linestyle='dotted', lw=2) \n",
    "ax2.tick_params(labelsize=14)\n",
    "plt.show()"
   ]
  },
  {
   "cell_type": "code",
   "execution_count": 10,
   "id": "833e8c54",
   "metadata": {},
   "outputs": [
    {
     "name": "stdout",
     "output_type": "stream",
     "text": [
      "Minimum Chi-squared = 172.46601027179526 for 11 d.o.f.\n",
      "The goodness of fit is:  3.6656133364311255e-31\n"
     ]
    }
   ],
   "source": [
    "minchisq = np.sum(((p_t['dt']-func_b(p_t['date'],*ml_cfpars))/p_t['error'])**2)\n",
    "\n",
    "dof = len(p_t['date'])-len(p0)\n",
    "print(\"Minimum Chi-squared = \"+str(minchisq)+\" for \"+str(dof)+\" d.o.f.\")\n",
    "print(\"The goodness of fit is: \",sps.chi2.sf(minchisq,df=dof))"
   ]
  },
  {
   "cell_type": "markdown",
   "id": "c077f1f9",
   "metadata": {},
   "source": [
    "This time the fitting is quite better but still the ratio is about 15 which is still rather large and the p-value is extremely small. So we can definitely find a better fit to our data."
   ]
  },
  {
   "cell_type": "markdown",
   "id": "ca83077a",
   "metadata": {},
   "source": [
    "For the case that the period is constantly changing the model that we are  going to do the fitting on is:"
   ]
  },
  {
   "cell_type": "code",
   "execution_count": 11,
   "id": "a05036ad",
   "metadata": {},
   "outputs": [],
   "source": [
    "def func_c(t_val,*parm):\n",
    "    alpha=parm[0]\n",
    "    beta=parm[1]\n",
    "    gamma=parm[2]\n",
    "    return alpha+beta*t_val+gamma*(t_val**2);"
   ]
  },
  {
   "cell_type": "code",
   "execution_count": 12,
   "id": "1e330fd0",
   "metadata": {},
   "outputs": [
    {
     "name": "stdout",
     "output_type": "stream",
     "text": [
      "The covariance matrix is:\n",
      " [[ 1.69778887e+08 -1.71580491e+05  4.33502763e+01]\n",
      " [-1.71580491e+05  1.73401250e+02 -4.38103053e-02]\n",
      " [ 4.33502763e+01 -4.38103053e-02  1.10687971e-05]]\n",
      "a= -161371.11990930137 +/- 13029.922736756676\n",
      "b= 163.42685302892687 +/- 13.168190847144858\n",
      "c= -0.0413772198632697 +/- 0.0033269801835888097\n"
     ]
    }
   ],
   "source": [
    "p0=[7.76,10.0,5.0]#initial values\n",
    "\n",
    "ml_cfpars, ml_cfcovar = spopt.curve_fit(func_c, p_t['date'], p_t['dt'], \n",
    "                                        p0, sigma=p_t['error'])\n",
    "\n",
    "print(\"The covariance matrix is:\\n\",ml_cfcovar)\n",
    "err = np.sqrt(np.diag(ml_cfcovar)) \n",
    "print(\"a= \"+str(ml_cfpars[0])+\" +/- \"+str(err[0]))\n",
    "print(\"b= \"+str(ml_cfpars[1])+\" +/- \"+str(err[1]))\n",
    "print(\"c= \"+str(ml_cfpars[2])+\" +/- \"+str(err[2]))"
   ]
  },
  {
   "cell_type": "code",
   "execution_count": 13,
   "id": "d388878c",
   "metadata": {},
   "outputs": [
    {
     "data": {
      "image/png": "[encoded data removed]",
      "text/plain": [
       "<Figure size 576x432 with 2 Axes>"
      ]
     },
     "metadata": {
      "needs_background": "light"
     },
     "output_type": "display_data"
    }
   ],
   "source": [
    "fig, (ax1, ax2) = plt.subplots(2,1, figsize=(8,6),sharex=True,gridspec_kw={'height_ratios':[2,1]})\n",
    "fig.subplots_adjust(hspace=0)\n",
    "\n",
    "ax1.errorbar(p_t['date'], p_t['dt'], yerr=p_t['error'], marker=\"o\", linestyle=\"\",alpha=0.5)\n",
    "ax1.plot(model_t,func_c(model_t,*ml_cfpars),lw=2)\n",
    "ax1.set_ylabel(\"Phase Residuals in years\",fontsize=12)\n",
    "ax1.tick_params(labelsize=14)\n",
    "\n",
    "ax2.errorbar(p_t['date'],p_t['dt']-func_c(p_t['date'],*ml_cfpars),\n",
    "             yerr=p_t['error'],marker=\"o\", linestyle=\"\",alpha=0.5)\n",
    "ax2.set_xlabel(\"Dates in years\",fontsize=12)\n",
    "ax2.set_ylabel(\"Residuals in years\", fontsize=12)\n",
    "ax2.axhline(0.0, color='r', linestyle='dotted', lw=2) \n",
    "ax2.tick_params(labelsize=14)\n",
    "plt.show()"
   ]
  },
  {
   "cell_type": "code",
   "execution_count": 14,
   "id": "64228067",
   "metadata": {},
   "outputs": [
    {
     "name": "stdout",
     "output_type": "stream",
     "text": [
      "Minimum Chi-squared = 10.506631573368624 for 10 d.o.f.\n",
      "The goodness of fit is:  0.397223133330097\n"
     ]
    }
   ],
   "source": [
    "minchisq = np.sum(((p_t['dt']-func_c(p_t['date'],*ml_cfpars))/p_t['error'])**2)\n",
    "\n",
    "dof = len(p_t['date'])-len(p0)\n",
    "print(\"Minimum Chi-squared = \"+str(minchisq)+\" for \"+str(dof)+\" d.o.f.\")\n",
    "print(\"The goodness of fit is: \",sps.chi2.sf(minchisq,df=dof))"
   ]
  },
  {
   "cell_type": "markdown",
   "id": "04a25b0c",
   "metadata": {},
   "source": [
    "This time the fit is realy good the p-value is about 40% and the ratio comes out about 1. So this is probably the best fit for this data and we can say that it is definitely the best fit from those we have tried so far."
   ]
  },
  {
   "cell_type": "markdown",
   "id": "5899cdef",
   "metadata": {},
   "source": [
    "Programming challenge 2"
   ]
  },
  {
   "cell_type": "markdown",
   "id": "8e0e1845",
   "metadata": {},
   "source": [
    "First we are defining the function histerbin that rebins the histogram to a given minimum counts per bin."
   ]
  },
  {
   "cell_type": "code",
   "execution_count": 15,
   "id": "2e8af3ba",
   "metadata": {},
   "outputs": [],
   "source": [
    "def histrebin(mininbin,counts,edges):\n",
    "    \n",
    "    edges2=np.zeros(1)\n",
    "    counts2=np.zeros(1)\n",
    "    i=0\n",
    "    countsum=0\n",
    "    firstbin_flag = 1\n",
    "    edges2[0]=edges[0]\n",
    "    for x in counts:\n",
    "        countsum=countsum+x\n",
    "        i=i+1\n",
    "        if countsum >= mininbin and (sum(counts[i:]) >= mininbin or i == len(counts)):  \n",
    "            if firstbin_flag == 1:\n",
    "                counts2[0]=countsum\n",
    "                firstbin_flag = 0\n",
    "            else:\n",
    "                counts2=np.append(counts2,countsum)\n",
    "            edges2=np.append(edges2,edges[i])\n",
    "            countsum=0        \n",
    "    return counts2, edges2"
   ]
  },
  {
   "cell_type": "markdown",
   "id": "d34f8334",
   "metadata": {},
   "source": [
    "At this point we are inserting the data and we are using the function we defined above in order to obtain the bins and edges for the final histogram to which we are going to fit the power law model."
   ]
  },
  {
   "cell_type": "code",
   "execution_count": 16,
   "id": "52d522c4",
   "metadata": {},
   "outputs": [],
   "source": [
    "photons = np.genfromtxt('photon_energies.txt')\n",
    "emin, emax = 10., 200.\n",
    "nbins = 50\n",
    "counts, edges = np.histogram(photons, bins=nbins, range=[emin,emax], density=False)\n",
    "mincounts = 20\n",
    "counts2, edges2 = histrebin(mincounts,counts,edges)\n",
    "bwidths = np.diff(edges2)\n",
    "cdens = counts2/bwidths#yval\n",
    "cdens_err = np.sqrt(counts2)/bwidths#dy\n",
    "energies = (edges2[:-1]+edges2[1:])/2#xval"
   ]
  },
  {
   "cell_type": "markdown",
   "id": "9fdb663c",
   "metadata": {},
   "source": [
    "Now we are defining the power law model and a function that integrates the curve fit and obtain counts density"
   ]
  },
  {
   "cell_type": "code",
   "execution_count": 17,
   "id": "78ee29bd",
   "metadata": {},
   "outputs": [],
   "source": [
    "def pl_model(x, parm):\n",
    "    pl_norm = parm[0]  \n",
    "    pl_index = parm[1]\n",
    "    return pl_norm * x**pl_index\n"
   ]
  },
  {
   "cell_type": "code",
   "execution_count": 18,
   "id": "e6ee87cf",
   "metadata": {},
   "outputs": [],
   "source": [
    "def model_int_cf(ecent, ebins, model, *parm):\n",
    "    \n",
    "    i = 0\n",
    "    ymod = np.zeros(len(ecent))\n",
    "    for energy in ebins[:-1]:\n",
    "        ymod[i], ymoderr = spint.quad(lambda x: model(x, parm),ebins[i],ebins[i+1])\n",
    "        ymod[i] = ymod[i]/(ebins[i+1]-ebins[i])  \n",
    "        i=i+1\n",
    "    return ymod"
   ]
  },
  {
   "cell_type": "markdown",
   "id": "8c7264ad",
   "metadata": {},
   "source": [
    "Now we are fitting the data to our power law model"
   ]
  },
  {
   "cell_type": "code",
   "execution_count": 19,
   "id": "b82598e0",
   "metadata": {},
   "outputs": [
    {
     "name": "stdout",
     "output_type": "stream",
     "text": [
      "Covariance matrix: \n",
      " [[ 1.38557897e+05 -1.43587826e+01]\n",
      " [-1.43587826e+01  1.57030675e-03]]\n",
      "Normalisation at 1 GeV = 2695.8605004131714 +/- 372.23365894181904\n",
      "Power-law index = -1.5725093885531372 +/- 0.0396270962109368\n",
      "Minimum Chi-squared = 20.652085891889353 for 20 d.o.f.\n",
      "The goodness of fit is: 0.41785865938156186\n"
     ]
    }
   ],
   "source": [
    "model = pl_model\n",
    "p0 = [2500.0, -1.5]  \n",
    "ml_cfpars, ml_cfcovar = spopt.curve_fit(lambda energies, *parm: model_int_cf(energies, edges2, model, *parm),\n",
    "                                        energies, cdens, p0, sigma=cdens_err)\n",
    "err = np.sqrt(np.diag(ml_cfcovar))\n",
    "print(\"Covariance matrix: \\n\",ml_cfcovar)\n",
    "\n",
    "print(\"Normalisation at 1 GeV = \" + str(ml_cfpars[0]) + \" +/- \" + str(err[0]))\n",
    "print(\"Power-law index = \" + str(ml_cfpars[1]) + \" +/- \" + str(err[1]))\n",
    "minchisq = np.sum(((cdens - model_int_cf(energies, edges2, model, *ml_cfpars))/cdens_err)**2.)\n",
    "\n",
    "print(\"Minimum Chi-squared = \" + str(minchisq) + \" for \" + str(len(cdens)-len(p0)) + \" d.o.f.\")\n",
    "print(\"The goodness of fit is: \" + str(sps.chi2.sf(minchisq,df=(len(cdens)-len(p0)))))"
   ]
  },
  {
   "cell_type": "markdown",
   "id": "71707daa",
   "metadata": {},
   "source": [
    "We can see that the fit is rather good because the ratio $\\chi_{\\nu}/\\nu$ where $\\nu$ are the degrees of freedom. The fit is really good because the ratio is about 1 and the p-value is 40% which is very promising. Bellow we are defining a function from which we obtain the chi squared grid. We had to do some changes in the code of this function in order to make it work for our case."
   ]
  },
  {
   "cell_type": "code",
   "execution_count": 20,
   "id": "cc5e641f",
   "metadata": {},
   "outputs": [],
   "source": [
    "def grid2d_chisqmin(ab_index,ab_range,ab_steps,parm,model,xval,yval,dy):\n",
    "    '''Finds best fit and then carries out chisq minimisation for a 1D grid of fixed parameters.\n",
    "       Input: \n",
    "            ab_index - tuple/list with indices of 'a' and 'b' parameter (in input list parm) to use for grid.\n",
    "            ab_range, ab_steps - range (nested tuple or list) and list/tuple with number of steps for grid\n",
    "                for parameters a and b.\n",
    "            parm - parameter list for model to be fitted.\n",
    "            model - name of model function to be fitted.\n",
    "            xval, dyval, dy - data x, y and y-error arrays\n",
    "        Output: \n",
    "            ab_best - list of best-fitting values for a and b.\n",
    "            minchisq - minimum chi-squared (for ab_best)\n",
    "            a_grid, b_grid - grids of 'a' and 'b' values used to obtain fits\n",
    "            chisq_grid - 2-D grid of chi-squared values corresponding to ab_grid'''\n",
    "    a_grid = np.linspace(ab_range[0][0],ab_range[0][1],ab_steps[0])\n",
    "    b_grid = np.linspace(ab_range[1][0],ab_range[1][1],ab_steps[1])\n",
    "    chisq_grid = np.zeros((len(a_grid),len(b_grid)))\n",
    "    # First obtain best-fitting values for a and b and corresponding chi-squared\n",
    "    ml_cfpars, ml_cfcovar = spopt.curve_fit(model, xval, yval, parm, sigma=dy)    \n",
    "    minchisq = np.sum(((yval-model(xval,*ml_cfpars))/dy)**2)\n",
    "    ab_best = [ml_cfpars[ab_index[0]], ml_cfpars[ab_index[1]]]\n",
    "    # Now remove 'a' and 'b' from the input parameter list, so these parameters may be frozen at the \n",
    "    # grid value for each fit\n",
    "    free_parm = np.delete(parm,ab_index)\n",
    "    # Now fit for each a and b in the grid, to do so we must use a lambda function to insert the fixed \n",
    "    # a and b into the model function when it is called by curve_fit, so that curve_fit does not use \n",
    "    # a or b as one of the free parameters so they remain at the fixed grid value in the fit.\n",
    "    for i, a_val in enumerate(a_grid):\n",
    "        for j, b_val in enumerate(b_grid):\n",
    "           #ml_cfpars, ml_cfcovar = spopt.curve_fit(lambda xval, \n",
    "            #*free_parm: model(xval, *np.insert(np.insert(free_parm,ab_index[0],a_val),ab_index[1],b_val)), \n",
    "             #                                       xval, yval, free_parm, sigma=dy)\n",
    "            chisq_grid[i,j] = np.sum(((yval-model(xval,\n",
    "                           a_val,b_val))/dy)**2)\n",
    "       # print(str((i+1)*len(b_grid))+' out of '+str(len(a_grid)*len(b_grid))+' grid-points calculated')\n",
    "    return ab_best, minchisq, a_grid, b_grid, chisq_grid "
   ]
  },
  {
   "cell_type": "markdown",
   "id": "8e517f67",
   "metadata": {},
   "source": [
    "Now we are making the chi squared grid from our data."
   ]
  },
  {
   "cell_type": "code",
   "execution_count": 21,
   "id": "7294b226",
   "metadata": {},
   "outputs": [],
   "source": [
    "model = pl_model\n",
    "parm = [2500.0, -1.5] # starting parameters for initial fit\n",
    "par_indices = [0,1]\n",
    "par_ranges = [[1500,4500],[-1.4,-1.75]]\n",
    "par_steps = [100,100]\n",
    "ab_best, minchisq, a_grid, b_grid, chisq_grid  = grid2d_chisqmin(par_indices,par_ranges,par_steps,\n",
    "parm,lambda energies, *parm: model_int_cf(energies, edges2, model, *parm),energies,cdens,cdens_err)"
   ]
  },
  {
   "cell_type": "markdown",
   "id": "4b0d6a59",
   "metadata": {},
   "source": [
    "Now we are making the contour plot for the powel law MLEs"
   ]
  },
  {
   "cell_type": "code",
   "execution_count": 22,
   "id": "99e993f2",
   "metadata": {},
   "outputs": [
    {
     "data": {
      "image/png": "[encoded data removed]",
      "text/plain": [
       "<Figure size 432x288 with 1 Axes>"
      ]
     },
     "metadata": {
      "needs_background": "light"
     },
     "output_type": "display_data"
    }
   ],
   "source": [
    "del1 = sps.chi2.isf(2*sps.norm.sf(1),df=2)#1-sigma confidence region with 2 degrees of freedom because it is a two parameter space  \n",
    "del2 = sps.chi2.isf(2*sps.norm.sf(2),df=2)#2-sigma\n",
    "del3 = sps.chi2.isf(2*sps.norm.sf(3),df=2)#3-sigma\n",
    "\n",
    "X, Y = np.meshgrid(a_grid,b_grid,indexing='ij')\n",
    "Z = chisq_grid\n",
    "levels = [minchisq+del1, minchisq+del2, minchisq+del3]\n",
    "plt.figure()\n",
    "plt.contour(X, Y, Z, levels, colors=('r', 'g', 'b'), linestyles=('solid','dashed','dotted'))\n",
    "plt.scatter(*ab_best, marker=\"+\")\n",
    "plt.xlabel(r'Normalisation factor', fontsize=14)\n",
    "plt.ylabel(r'Power Law Index', fontsize=14)\n",
    "plt.show()"
   ]
  },
  {
   "cell_type": "markdown",
   "id": "4c98f124",
   "metadata": {},
   "source": [
    "We are defining a function from which we can generate our likelihood function using Poisson distribution."
   ]
  },
  {
   "cell_type": "code",
   "execution_count": 23,
   "id": "92bf386e",
   "metadata": {},
   "outputs": [],
   "source": [
    "def LogLikelihood_Pois_Integ(parm, model, ebins, counts): \n",
    "    \n",
    "    i = 0\n",
    "    ymod = np.zeros(len(counts))\n",
    "    for energy in ebins[:-1]:\n",
    "        ymod[i], ymoderr = spint.quad(lambda x: model(x, parm),ebins[i],ebins[i+1])\n",
    "        # we don't normalise by bin width since the rate parameter is set by the model and needs to be \n",
    "        # in counts per bin\n",
    "        i=i+1        \n",
    "    pd = sps.poisson(ymod) #we define our Poisson distribution\n",
    "    return -sum(pd.logpmf(counts))"
   ]
  },
  {
   "cell_type": "markdown",
   "id": "c0b3ba57",
   "metadata": {},
   "source": [
    "We are calculating the MLE"
   ]
  },
  {
   "cell_type": "code",
   "execution_count": 24,
   "id": "d47d8aff",
   "metadata": {},
   "outputs": [
    {
     "name": "stdout",
     "output_type": "stream",
     "text": [
      "Covariance matrix: \n",
      " [[0.00167929 0.00033136]\n",
      " [0.00033136 0.00011048]]\n",
      "Normalisation at 1 GeV = 2555.19507633651 +/- 0.04097911375985234\n",
      "Power-law index = -1.5509355551083115 +/- 0.010511031769118955\n",
      "Maximum log-likelihood = -126.29341311424108\n"
     ]
    }
   ],
   "source": [
    "result = spopt.minimize(LogLikelihood_Pois_Integ, parm, args=(pl_model, edges, counts), method='BFGS')\n",
    "\n",
    "err = np.sqrt(np.diag(result.hess_inv))\n",
    "print(\"Covariance matrix: \\n\",result.hess_inv)\n",
    "print(\"Normalisation at 1 GeV = \" + str(result.x[0]) + \" +/- \" + str(err[0]))\n",
    "print(\"Power-law index = \" + str(result.x[1]) + \" +/- \" + str(err[1]))\n",
    "print(\"Maximum log-likelihood = \" + str(-1.0*result.fun))"
   ]
  },
  {
   "cell_type": "markdown",
   "id": "84fc5b97",
   "metadata": {},
   "source": [
    "Now we are creating a 2D grid parameter space for the power law index and normalization like the grid2d_chisqmin function above but in this case the grid point are from "
   ]
  },
  {
   "cell_type": "code",
   "execution_count": 25,
   "id": "cea24a53",
   "metadata": {},
   "outputs": [],
   "source": [
    "model = pl_model\n",
    "parm = [2500.0, -1.5] # starting parameters for initial fit\n",
    "par_indices = [0,1]\n",
    "par_ranges = [[1500,4500],[0,-2.5]]\n",
    "par_steps = [100,100]\n",
    "a_grid=np.linspace(200,14500,100)#Normalisation factor values\n",
    "b_grid=np.linspace(-1,-2.2,100)#Power law index values\n",
    "\n",
    "poisson_grid = np.zeros((len(a_grid),len(b_grid)))\n",
    "for i, a_val in enumerate(a_grid):\n",
    "    for j, b_val in enumerate(b_grid):\n",
    "        par=[a_val,b_val]\n",
    "        poisson_grid[i,j]  =np.sum(LogLikelihood_Pois_Integ(par, model, edges2, counts2))\n",
    "   \n",
    " \n",
    "         \n"
   ]
  },
  {
   "cell_type": "markdown",
   "id": "0188b703",
   "metadata": {},
   "source": [
    "Now we are about to do the contoy=ur plot of our confidense regions. In this case in order to calculate the delta we have to use the poisson distribution with rate the mean of the counts."
   ]
  },
  {
   "cell_type": "code",
   "execution_count": 26,
   "id": "b6a76d0e",
   "metadata": {},
   "outputs": [
    {
     "data": {
      "image/png": "[encoded data removed]",
      "text/plain": [
       "<Figure size 432x288 with 1 Axes>"
      ]
     },
     "metadata": {
      "needs_background": "light"
     },
     "output_type": "display_data"
    }
   ],
   "source": [
    "del1 = sps.poisson.isf(2*sps.norm.sf(1),mu=np.mean(counts))\n",
    "del2 = sps.poisson.isf(2*sps.norm.sf(2),mu=np.mean(counts))\n",
    "del3 = sps.poisson.isf(2*sps.norm.sf(3),mu=np.mean(counts))\n",
    "\n",
    "X, Y = np.meshgrid(a_grid,b_grid,indexing='ij')\n",
    "Z = poisson_grid\n",
    "levels = [result.fun+del1, result.fun+del2, result.fun+del3]\n",
    "plt.figure()\n",
    "plt.contour(X, Y, Z, levels, colors=('r', 'g', 'b'), linestyles=('solid','dashed','dotted'))\n",
    "plt.scatter(result.x[0],result.x[1], marker=\"+\")\n",
    "plt.xlabel(r'Normalisation factor', fontsize=14)\n",
    "plt.ylabel(r'Power Law Index', fontsize=14)\n",
    "plt.show()\n",
    "\n",
    "\n"
   ]
  },
  {
   "cell_type": "markdown",
   "id": "e356ad88",
   "metadata": {},
   "source": [
    "Comparing the two contour plots we can firstly observe a the difference between the positions of the most likelihood estimations what I mean by that is that the best fit values of each fitting are a bit different. But the biggest difference betweeen the two plots is the shape and size of the contours. In the second case we can see that the contours cover a big range of normalisation factor even at the 1 sigma confidence regions. So  we can say that this method can predict the power law index and normalisation factor quite well, when it comes to calculating confidence region it is better to do it through the chi squared method because it seems a lot more precise."
   ]
  },
  {
   "cell_type": "markdown",
   "id": "f88ce338",
   "metadata": {},
   "source": [
    "Programming challenge 3\n"
   ]
  },
  {
   "cell_type": "markdown",
   "id": "f536586f",
   "metadata": {},
   "source": [
    "Firstly we import the data and and then using the histerbinfunction we are calculating the number of counts and edges to a given minimum of counts per bin. After some trial runs we choose that the minimum counts per bin will be thirty because that gives us the best possible fitting."
   ]
  },
  {
   "cell_type": "code",
   "execution_count": 41,
   "id": "23cc4394",
   "metadata": {},
   "outputs": [],
   "source": [
    "events = np.genfromtxt('event_energies.txt')\n",
    "emin, emax = 20., 300.\n",
    "nbins = 50\n",
    "counts, edges = np.histogram(photons, bins=nbins, range=[emin,emax], density=False)\n",
    "mincounts = 20\n",
    "counts2, edges2 = histrebin(mincounts,counts,edges)\n",
    "bwidths = np.diff(edges2)\n",
    "cdens = counts2/bwidths#yval\n",
    "cdens_err = np.sqrt(counts2)/bwidths#dy\n",
    "energies = (edges2[:-1]+edges2[1:])/2#xval"
   ]
  },
  {
   "cell_type": "markdown",
   "id": "a6c2fded",
   "metadata": {},
   "source": [
    "Now we are going to define the continuum model for the spectrum.\n"
   ]
  },
  {
   "cell_type": "code",
   "execution_count": 51,
   "id": "f3bfa74a",
   "metadata": {},
   "outputs": [],
   "source": [
    "def c_model(x,parm):\n",
    "    c_norm=parm[0]#normalization factor\n",
    "    c_gamma=parm[1]#power law index\n",
    "    c_ecut=parm[2]#energy cut of\n",
    "    return c_norm*(x**(c_gamma))*np.exp(-x/c_ecut)"
   ]
  },
  {
   "cell_type": "markdown",
   "id": "cdbe874f",
   "metadata": {},
   "source": [
    "Now we are about to do the fitting to the continuum model."
   ]
  },
  {
   "cell_type": "code",
   "execution_count": 52,
   "id": "8b013bb4",
   "metadata": {
    "scrolled": true
   },
   "outputs": [
    {
     "name": "stdout",
     "output_type": "stream",
     "text": [
      "Covariance matrix: \n",
      "  [[ 1.64870599e+05 -8.68633400e+01  1.02909193e+04]\n",
      " [-8.68633400e+01  4.63307167e-02 -5.66973575e+00]\n",
      " [ 1.02909193e+04 -5.66973575e+00  7.86219213e+02]]\n",
      "Normalisation at 1 GeV = 594.6572082029669 +/- 406.04260722186103\n",
      "Power-law index = -1.0408198244781668 +/- 0.2152457123778316\n",
      "Energy cut off= 100.6540910336678+/-28.03960079646796\n",
      "Minimum Chi-squared = 17.437227898590756 for 13 d.o.f.\n",
      "The goodness of fit is: 0.1800794634605242\n"
     ]
    }
   ],
   "source": [
    "model = c_model\n",
    "p0 = [1000,1,80]  # Initial power-law parameters\n",
    "ml_cfpars, ml_cfcovar = spopt.curve_fit(lambda energies, *parm: model_int_cf(energies, edges2, model, *parm),\n",
    "                                        energies, cdens, p0, sigma=cdens_err)\n",
    "err = np.sqrt(np.diag(ml_cfcovar))\n",
    "print(\"Covariance matrix: \\n \",ml_cfcovar)\n",
    "\n",
    "print(\"Normalisation at 1 GeV = \" + str(ml_cfpars[0]) + \" +/- \" + str(err[0]))\n",
    "print(\"Power-law index = \" + str(ml_cfpars[1]) + \" +/- \" + str(err[1]))\n",
    "print(\"Energy cut off= \"+str(ml_cfpars[2])+\"+/-\"+str(err[2]))\n",
    "minchisq = np.sum(((cdens - model_int_cf(energies, edges2, model, *ml_cfpars))/cdens_err)**2.)\n",
    "\n",
    "print(\"Minimum Chi-squared = \" + str(minchisq) + \" for \" + str(len(cdens)-len(p0)) + \" d.o.f.\")\n",
    "print(\"The goodness of fit is: \" + str(sps.chi2.sf(minchisq,df=(len(cdens)-len(p0)))))"
   ]
  },
  {
   "cell_type": "markdown",
   "id": "c65c3288",
   "metadata": {},
   "source": [
    "The model fits our data quite well. This happens because the ratio $\\chi_{\\nu}/\\nu$ is about 1 and the goodness of the fit is about 38%. Next we are introducing the function plot_spec_model with which we are going to plot our model."
   ]
  },
  {
   "cell_type": "code",
   "execution_count": 30,
   "id": "edadf818",
   "metadata": {},
   "outputs": [],
   "source": [
    "def plot_spec_model(ebins,cdens,cdens_err,cdens_model):\n",
    "    energies = (ebins[1:]+ebins[:-1])/2\n",
    "    bwidths = np.diff(ebins)\n",
    "    fig, (ax1, ax2) = plt.subplots(2,1, figsize=(8,6),sharex=True,gridspec_kw={'height_ratios':[2,1]})\n",
    "    fig.subplots_adjust(hspace=0)\n",
    "    ax1.errorbar(energies, cdens, xerr=bwidths/2., yerr=cdens_err, fmt='o')\n",
    "    model_hist, edges, patches = ax1.hist(energies, bins=ebins, weights=cdens_model, \n",
    "                                      density=False, histtype='step')\n",
    "    ax2.errorbar(energies, cdens/cdens_model, xerr=bwidths/2., yerr=cdens_err/cdens_model, fmt='o')\n",
    "    ax2.set_xlabel(\"Energy (GeV)\", fontsize=16)\n",
    "    ax1.set_ylabel(\"Counts/Gev\", fontsize=14)\n",
    "    ax2.set_ylabel(\"data/model\", fontsize=14)\n",
    "    ax2.axhline(1.0, color='r', linestyle='dotted', lw=2) \n",
    "    ax1.tick_params(labelsize=14)\n",
    "    ax1.tick_params(axis=\"x\",direction=\"in\",which=\"both\", length=4)\n",
    "    ax2.tick_params(axis=\"x\",which=\"both\", length=4)\n",
    "    ax2.tick_params(labelsize=14)\n",
    "    ax1.set_yscale('log')\n",
    "    ax1.set_xscale('log')\n",
    "    ax2.set_xscale('log')\n",
    "    ax1.get_yaxis().set_label_coords(-0.12,0.5)\n",
    "    ax2.get_yaxis().set_label_coords(-0.12,0.5)\n",
    "    ax2.set_xlim(ebins[0],ebins[-1])\n",
    "    plt.show()"
   ]
  },
  {
   "cell_type": "markdown",
   "id": "3352100b",
   "metadata": {},
   "source": [
    "Using this function we are making the plot bellow.\n"
   ]
  },
  {
   "cell_type": "code",
   "execution_count": 45,
   "id": "2074a3f3",
   "metadata": {},
   "outputs": [
    {
     "data": {
      "image/png": "[encoded data removed]",
      "text/plain": [
       "<Figure size 576x432 with 2 Axes>"
      ]
     },
     "metadata": {
      "needs_background": "light"
     },
     "output_type": "display_data"
    }
   ],
   "source": [
    "best_model = model_int_cf(energies, edges2, model, *ml_cfpars)\n",
    "plot_spec_model(edges2,cdens,cdens_err,best_model)"
   ]
  },
  {
   "cell_type": "markdown",
   "id": "e9385881",
   "metadata": {},
   "source": [
    "Using the datamodel ratio of our plot we can see that there may be a Gaussian feature near 70 to 80 Gev(which may be the given Gaussian around 80 to 85 GeV). Also, there may be a Gaussian feature around 120 to 130 GeV. Also there may be an absorption line around 35 GeV but we are not going to test for that in this exercise. "
   ]
  },
  {
   "cell_type": "markdown",
   "id": "be137a5e",
   "metadata": {},
   "source": [
    "Now we are going to add a Gaussian profile to our continuum model. To do that firstly we need to define a new model which will include the Gaussian profile."
   ]
  },
  {
   "cell_type": "code",
   "execution_count": 46,
   "id": "cf999254",
   "metadata": {},
   "outputs": [],
   "source": [
    "def g_model(x,parm):\n",
    "    g_norm=parm[0]#normalisation factor of continuum\n",
    "    g_gamma=parm[1]#power law index of continuum\n",
    "    g_ecut=parm[2]#energy cut-of of continuum\n",
    "    g_gnorm=parm[3]#normalisation of Gaussian\n",
    "    g_sigma=1.3#Gaussian width\n",
    "    g_ecent=parm[4]#Gaussian centroid\n",
    "    g_flux = np.exp(-0.5*((x - g_ecent)/g_sigma)**2)/(g_sigma*np.sqrt(2.*np.pi))\n",
    "    return g_norm*(x**(g_gamma))*np.exp(-x/g_ecut)+g_gnorm*g_flux"
   ]
  },
  {
   "cell_type": "markdown",
   "id": "fce80a46",
   "metadata": {},
   "source": [
    "Now we are going to do the fitting on this model."
   ]
  },
  {
   "cell_type": "code",
   "execution_count": 33,
   "id": "218c6c99",
   "metadata": {},
   "outputs": [],
   "source": [
    "mincounts = 30\n",
    "counts2, edges2 = histrebin(mincounts,counts,edges)\n",
    "bwidths = np.diff(edges2)\n",
    "cdens = counts2/bwidths#yval\n",
    "cdens_err = np.sqrt(counts2)/bwidths#dy\n",
    "energies = (edges2[:-1]+edges2[1:])/2#xval"
   ]
  },
  {
   "cell_type": "code",
   "execution_count": 34,
   "id": "e196d9f7",
   "metadata": {},
   "outputs": [
    {
     "name": "stdout",
     "output_type": "stream",
     "text": [
      "Covariance matrix: \n",
      "  [[ 7.32507894e+05 -1.16106296e+02  9.28387370e+04  1.67479040e+03\n",
      "   5.99269526e+01]\n",
      " [-1.16106296e+02  1.85987465e-02 -1.52470992e+01 -2.79264358e-01\n",
      "  -9.89108640e-03]\n",
      " [ 9.28387370e+04 -1.52470992e+01  1.37446923e+04  2.22026323e+02\n",
      "   7.62284260e+00]\n",
      " [ 1.67479040e+03 -2.79264358e-01  2.22026323e+02  3.95057648e+01\n",
      "   9.79475228e-01]\n",
      " [ 5.99269526e+01 -9.89108640e-03  7.62284260e+00  9.79475228e-01\n",
      "   2.00578596e-01]]\n",
      "Normalisation at 1 GeV = 2001.1739640262215 +/- 855.8667499790317\n",
      "Power-law index = -1.4548559510422878 +/- 0.13637722127424698\n",
      "Energy cut off (in GeV)= 262.7354806523799 +/- 117.23775959580104\n",
      "Normalisation of Gaussian= 23.195443810263477 +/- 6.285361153052549\n",
      "Gaussian centroid(in GeV)=70.04091848156024 +/- 0.44786001778283235\n",
      "Minimum Chi-squared = 3.643327480712859 for 8 d.o.f.\n",
      "The goodness of fit is: 0.8877858775634723\n"
     ]
    }
   ],
   "source": [
    "model = g_model\n",
    "p0 = [1000,-1,100,10,70]  # Initial  parameters\n",
    "ml_cfpars, ml_cfcovar = spopt.curve_fit(lambda energies, *parm: model_int_cf(energies, edges2, model, *parm),\n",
    "                                        energies, cdens, p0, sigma=cdens_err)\n",
    "err = np.sqrt(np.diag(ml_cfcovar))\n",
    "print(\"Covariance matrix: \\n \",ml_cfcovar)\n",
    "\n",
    "print(\"Normalisation at 1 GeV = \" + str(ml_cfpars[0]) + \" +/- \" + str(err[0]))\n",
    "print(\"Power-law index = \" + str(ml_cfpars[1]) + \" +/- \" + str(err[1]))\n",
    "print(\"Energy cut off (in GeV)= \"+str(ml_cfpars[2])+\" +/- \"+str(err[2]))\n",
    "print(\"Normalisation of Gaussian= \"+str(ml_cfpars[3])+\" +/- \"+str(err[3]))\n",
    "print(\"Gaussian centroid(in GeV)=\"+str(ml_cfpars[4])+\" +/- \"+str(err[4]))\n",
    "minchisq = np.sum(((cdens - model_int_cf(energies, edges2, model, *ml_cfpars))/cdens_err)**2.)\n",
    "\n",
    "print(\"Minimum Chi-squared = \" + str(minchisq) + \" for \" + str(len(cdens)-len(p0)) + \" d.o.f.\")\n",
    "print(\"The goodness of fit is: \" + str(sps.chi2.sf(minchisq,df=(len(cdens)-len(p0)))))"
   ]
  },
  {
   "cell_type": "markdown",
   "id": "99ca7cf6",
   "metadata": {},
   "source": [
    "I tried setting the centroid of the Gaussian around 80 Gev but the fit I was getting was terrible the goodness of the fit was about 20% and the ratio was about 2. By looking at the data/model ratio in the plot above we can clearly see that the centroid should be near 70 GeV even though according to exercise the centroid should be about 80 GeV. And indeed by setting the initial value of the centroid around 70 I immediately got the fit above. The goodness of this fit is 88% which means that this fit is extremely good. I have tried different minimum counts per bin just in case the centroid doesn't come up in the correct position due to the bins and the energy range each bin covers but I kept getting even worse fits. So I am going to trust my plots and fittings and consider that the Gaussian feature is near 70 GeV and not near 80 to 85 GeV as it was suggested by the exercise. Bellow I am using the plot_spec_model function that was defined earlier in order to  plot my model."
   ]
  },
  {
   "cell_type": "code",
   "execution_count": 35,
   "id": "956bd71c",
   "metadata": {},
   "outputs": [
    {
     "data": {
      "image/png": "[encoded data removed]",
      "text/plain": [
       "<Figure size 576x432 with 2 Axes>"
      ]
     },
     "metadata": {
      "needs_background": "light"
     },
     "output_type": "display_data"
    }
   ],
   "source": [
    "best_model = model_int_cf(energies, edges2, model, *ml_cfpars)\n",
    "plot_spec_model(edges2,cdens,cdens_err,best_model)"
   ]
  },
  {
   "cell_type": "markdown",
   "id": "924df0f5",
   "metadata": {},
   "source": [
    "Now we are going to estimate the significance of thisline feature. To do so we are going to use Wilks' theorem according to which  the log-likelihood-ratio is distributed as a $\\chi^{2}_{m}$ distribution with degrees of freedom equal to the number of extra free parameters in a large data sample. The $\\Delta\\chi^{2}$ in our case is about 7.03. The degrees of freedom is 1. At first glance it seems that the degrees of freedom would be 2 but in line emissions model the energy of the line is not really a nestable parameter because the likelihood does not smoothly change if we change the position of such a sharp feature. So in our case m=1."
   ]
  },
  {
   "cell_type": "code",
   "execution_count": 36,
   "id": "dd321d86",
   "metadata": {
    "scrolled": false
   },
   "outputs": [
    {
     "name": "stdout",
     "output_type": "stream",
     "text": [
      "p-value for our delta-chi-squared:  0.008015535297439966\n"
     ]
    }
   ],
   "source": [
    "print(\"p-value for our delta-chi-squared: \",sps.chi2.sf(7.03,df=1))"
   ]
  },
  {
   "cell_type": "markdown",
   "id": "d91cdc00",
   "metadata": {},
   "source": [
    "The significance level is somewhere about 2.5$\\sigma$ which is not great. In order to be able to say that this lines represent anything we need at least 3$\\sigma$ significance. If we did not knew the energy range in order to calculate the significance we use the Bonferroni correction. We are going to calculate the chances of at least success, where success is considered p-value smaller than 0.008, in a number of trials. Following the lecture notes the number of trial should be about 18.\n"
   ]
  },
  {
   "cell_type": "code",
   "execution_count": 37,
   "id": "88d05058",
   "metadata": {},
   "outputs": [
    {
     "name": "stdout",
     "output_type": "stream",
     "text": [
      "The chance that we would see at least 1 success p<0.008 is 0.1348574459301627\n"
     ]
    }
   ],
   "source": [
    "x=0\n",
    "n=18\n",
    "theta=sps.chi2.sf(7.03,df=1)\n",
    "a=sps.binom.pmf(x,n,p=theta)\n",
    "print(\"The chance that we would see at least 1 success p<0.008 is\",1-a)"
   ]
  },
  {
   "cell_type": "markdown",
   "id": "ed11b21b",
   "metadata": {},
   "source": [
    "In  order to calculate the 3$\\sigma$ upper limit we have to introduce two new function. Firstly we define the function grid1d_chisqmin_cfint which is calculating the best value for a single parameter and the minimum chi squared and also creates a grid of values for the parameter a and their corresponding chi squared."
   ]
  },
  {
   "cell_type": "code",
   "execution_count": 38,
   "id": "cb6d82bc",
   "metadata": {},
   "outputs": [],
   "source": [
    "def grid1d_chisqmin_cfint(a_index,a_range,a_steps,parm,model,xval,yval,dy,xedges):\n",
    "    \n",
    "    a_grid = np.linspace(a_range[0],a_range[1],a_steps)\n",
    "    chisq_grid = np.zeros(len(a_grid))\n",
    "    # First obtain best-fitting value for 'a' and corresponding chi-squared\n",
    "    ml_cfpars, ml_cfcovar = spopt.curve_fit(lambda xval, *parm: model_int_cf(xval, xedges, \n",
    "                            model, parm), xval, yval, parm, sigma=dy)\n",
    "    \n",
    "    minchisq = np.sum(((yval-model_int_cf(xval,xedges,model,*ml_cfpars))/dy)**2)\n",
    "    a_best = ml_cfpars[a_index]\n",
    "    # Now remove 'a' from the input parameter list, so this parameter may be frozen at the \n",
    "    # grid value for each fit\n",
    "    free_parm = np.delete(parm,a_index)\n",
    "    # Now fit for each 'a' in the grid, to do so we must use a lambda function to insert the fixed \n",
    "    # 'a' into the model function when it is called by curve_fit, so that curve_fit does not use \n",
    "    # 'a' as one of the free parameters so it remains at the fixed grid value in the fit.\n",
    "    for i, a_val in enumerate(a_grid):        \n",
    "        ml_cfpars, ml_cfcovar = spopt.curve_fit(lambda xval, *parm: model_int_cf(xval, xedges, \n",
    "                            model, parm), xval, yval, parm, sigma=dy)        \n",
    "        chisq_grid[i] = np.sum(((yval-model_int_cf(xval,xedges,model,\n",
    "                                                   *np.insert(ml_cfpars,a_index,a_val)))/dy)**2)\n",
    "        #print(i+1,'steps: chisq =',chisq_grid[i],'for a =',a_val,' minimum = ',minchisq,' for a =',a_best)\n",
    "    return a_best, minchisq, a_grid, chisq_grid  "
   ]
  },
  {
   "cell_type": "markdown",
   "id": "11b88150",
   "metadata": {},
   "source": [
    "Then we define the other function which interpolates the chi squared grid and the parameter grid defined above and returns the upper limit given a delta that we define in the function's arguments."
   ]
  },
  {
   "cell_type": "code",
   "execution_count": 39,
   "id": "e8a2b2be",
   "metadata": {},
   "outputs": [],
   "source": [
    "def calc_upper_chisq(delchisq,minchisq,a_grid,chisq_grid):\n",
    "   \n",
    "    # First interpolate over the grid for values > a_best and find upper interval bound\n",
    "    chisq_interp_upper = spinterp.interp1d(chisq_grid,a_grid)\n",
    "    a_upper = chisq_interp_upper(minchisq+delchisq)\n",
    "    return a_upper"
   ]
  },
  {
   "cell_type": "markdown",
   "id": "03221985",
   "metadata": {},
   "source": [
    "Now using these two function we are going to calculate. Before we make the calculation we need to freeze the parameter of energy centroid so durind the fitting procedure not all parameters can change."
   ]
  },
  {
   "cell_type": "code",
   "execution_count": 40,
   "id": "54e6bc8a",
   "metadata": {},
   "outputs": [
    {
     "name": "stdout",
     "output_type": "stream",
     "text": [
      "3-sigma upper limit on line flux:  23.720057891851646\n"
     ]
    }
   ],
   "source": [
    "fix_encent=144\n",
    "\n",
    "new_model= lambda x, parm:g_model(x,np.insert(parm,4,fix_encent))\n",
    "\n",
    "parm = [2000.0, -1.4, 262,0]\n",
    "\n",
    "a_index = 3\n",
    "par_range = [0,30]\n",
    "n_steps = 100\n",
    "a_best, minchisq, a_grid, chisq_grid = grid1d_chisqmin_cfint(a_index,par_range,n_steps,parm,new_model,\n",
    "                             energies,cdens,cdens_err,edges2)\n",
    "delchisq = sps.chi2.isf(2*sps.norm.sf(3),df=1)#because we need 3-sigma upper level\n",
    "a_upper = calc_upper_chisq(delchisq,minchisq,a_grid,chisq_grid)\n",
    "print(\"3-sigma upper limit on line flux: \", a_upper)"
   ]
  },
  {
   "cell_type": "markdown",
   "id": "0b8f4d62",
   "metadata": {},
   "source": [
    "So we can say that there is a 0.1% chance that the number of events for the proposed new particle events will be greatter 23.7."
   ]
  }
 ],
 "metadata": {
  "kernelspec": {
   "display_name": "Python 3 (ipykernel)",
   "language": "python",
   "name": "python3"
  },
  "language_info": {
   "codemirror_mode": {
    "name": "ipython",
    "version": 3
   },
   "file_extension": ".py",
   "mimetype": "text/x-python",
   "name": "python",
   "nbconvert_exporter": "python",
   "pygments_lexer": "ipython3",
   "version": "3.9.7"
  }
 },
 "nbformat": 4,
 "nbformat_minor": 5
}
